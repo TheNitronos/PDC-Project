{
 "cells": [
  {
   "cell_type": "code",
   "execution_count": 11,
   "metadata": {},
   "outputs": [],
   "source": [
    "import numpy as np\n",
    "import matplotlib.pyplot as plt\n",
    "import helper as hp\n",
    "import os"
   ]
  },
  {
   "cell_type": "code",
   "execution_count": 12,
   "metadata": {},
   "outputs": [],
   "source": [
    "def fGenerator(frequency, samplingRate):\n",
    "    \n",
    "    def f(n):        \n",
    "        return np.cos(2*np.pi*frequency/samplingRate*n)\n",
    "    \n",
    "    return f"
   ]
  },
  {
   "cell_type": "code",
   "execution_count": 13,
   "metadata": {},
   "outputs": [],
   "source": [
    "BASE = 2000\n",
    "DEVIATION = 2000\n",
    "SAMPLING_RATE = 22050\n",
    "\n",
    "SAMPLES_PER_SYMBOL = 100\n",
    "BETA = 1/2\n",
    "\n",
    "\n",
    "def phi(i):\n",
    "    return fGenerator(BASE + i*DEVIATION, SAMPLING_RATE)\n",
    "\n",
    "def raised_cosine(beta, period):\n",
    "    \n",
    "    def f(n):\n",
    "        return (4 * beta)/(np.pi * np.sqrt(period)) * \\\n",
    "               (np.cos((1+beta)*np.pi*n/period) + (1-beta)*np.pi/(4*beta)*np.sinc((1-beta)*n/period))/ \\\n",
    "               (1-np.square((4*beta*n/period)))\n",
    "        \n",
    "    \n",
    "    limit_raised_cosine_critical_points = beta/(np.pi*np.sqrt(2*period)) * \\\n",
    "                                          ((np.pi + 2)*np.sin(np.pi/(4*beta)) + (np.pi-2)*np.cos(np.pi/(4*beta)))\n",
    "    \n",
    "    def g(n):\n",
    "        return np.piecewise(float(n), [(np.abs(n) != period/(4*beta)), (np.abs(n) == period/(4*beta))], \\\n",
    "                            [lambda x : f(x), lambda x : limit_raised_cosine_critical_points])\n",
    "    \n",
    "    return g\n",
    "\n",
    "def waveformer(n):\n",
    "    return raised_cosine(BETA, SAMPLES_PER_SYMBOL)(n-SAMPLES_PER_SYMBOL/2)*(phi(0)(n) + phi(1)(n) + phi(2)(n) + phi(3)(n))"
   ]
  },
  {
   "cell_type": "code",
   "execution_count": 14,
   "metadata": {},
   "outputs": [],
   "source": [
    "def generic_encoder(bool_message, samples_per_symbol, f):\n",
    "    \n",
    "    result = []\n",
    "    \n",
    "    for s in bool_message:\n",
    "        for i in range(samples_per_symbol):\n",
    "            result.append((1 if s else -1)*f(i))\n",
    "    #résultat à normaliser !\n",
    "    return result"
   ]
  },
  {
   "cell_type": "code",
   "execution_count": 15,
   "metadata": {},
   "outputs": [],
   "source": [
    "def generic_decoder(float_message, samples_per_symbol, length_of_bool_message, synchro_shift, f):\n",
    "    \n",
    "    synchronised_message = float_message[synchro_shift:synchro_shift + samples_per_symbol*length_of_bool_message]\n",
    "    result = []\n",
    "\n",
    "    assert len(synchronised_message)%samples_per_symbol == 0\n",
    "    length = length_of_bool_message\n",
    "    decoding_vector = generic_encoder([True],samples_per_symbol, f)\n",
    "    \n",
    "    for i in range(length):\n",
    "        currentSymbol = synchronised_message[i*samples_per_symbol:(i+1)*samples_per_symbol]\n",
    "        y = np.dot(decoding_vector, currentSymbol)\n",
    "        result.append(y>0)\n",
    "    \n",
    "    return result"
   ]
  },
  {
   "cell_type": "code",
   "execution_count": 16,
   "metadata": {},
   "outputs": [],
   "source": [
    "def synchro_seq_generator(seed, length):\n",
    "    \n",
    "    np.random.seed(seed)   \n",
    "    bool_sequence = np.random.randint(2, size = length)\n",
    "    \n",
    "    return bool_sequence\n",
    "\n",
    "\n",
    "def synchronizer(float_message, preambule_matcher, postbule_matcher, samples_per_symbol, f):\n",
    "    \n",
    "    preambule_float = generic_encoder(preambule_matcher, SAMPLES_PER_SYMBOL, f)  \n",
    "    postbule_float  = generic_encoder(postbule_matcher, SAMPLES_PER_SYMBOL, f)\n",
    "    \n",
    "    return (np.argmax(np.correlate(float_message, preambule_float, \"valid\")), \\\n",
    "            np.argmax(np.correlate(float_message, postbule_float,  \"valid\")))"
   ]
  },
  {
   "cell_type": "code",
   "execution_count": 17,
   "metadata": {},
   "outputs": [],
   "source": [
    "def create_send_file(preambule, boolean_message, postbule, path, f):\n",
    "\n",
    "    print(\"Nombre de bits du message envoyé\", len(boolean_message))\n",
    "    \n",
    "    sent_test_message = generic_encoder(np.concatenate((preambule,boolean_message,postbule)), \\\n",
    "                                        SAMPLES_PER_SYMBOL, f)\n",
    "\n",
    "    normalized_sent_test_message = sent_test_message/np.max(sent_test_message)\n",
    "    \n",
    "    print(\"Nombre d'échantillons envoyés\", str(len(normalized_sent_test_message)))\n",
    "\n",
    "    plt.plot(np.abs(np.fft.fft(normalized_sent_test_message)))\n",
    "\n",
    "    with open(path, \"w\") as fd:\n",
    "        for fl in sent_test_message:\n",
    "            fd.write(str(fl))\n",
    "            fd.write(\"\\n\")"
   ]
  },
  {
   "cell_type": "code",
   "execution_count": 18,
   "metadata": {},
   "outputs": [],
   "source": [
    "def decode_file(preambule, postbule, path, f):\n",
    "    result_message = []\n",
    "\n",
    "    with open(path,\"r\") as fr:  \n",
    "        for cnt, line in enumerate(fr):\n",
    "            result_message.append(float(line))\n",
    "    \n",
    "    delay_index, end_index = synchronizer(result_message, preambule, postbule, SAMPLES_PER_SYMBOL, f)\n",
    "    synchro_shift = delay_index + len(preambule)*SAMPLES_PER_SYMBOL\n",
    "    length_bool_message = int(np.around((end_index - synchro_shift)/SAMPLES_PER_SYMBOL))\n",
    "    print(\"Nombre de bits du message reçu\", length_bool_message)\n",
    "    \n",
    "    result_bool_message = generic_decoder(result_message, SAMPLES_PER_SYMBOL, \\\n",
    "                                          length_bool_message, synchro_shift, f)\n",
    "\n",
    "    plt.plot(np.abs(np.fft.fft(result_message[delay_index:delay_index+(len(preambule)+length_bool_message)*SAMPLES_PER_SYMBOL])))\n",
    "    \n",
    "    print(\"Nombre d'échantillons reçus\", str(len(result_message)))\n",
    "    print(\"Délais\",  str(delay_index))\n",
    "    print(\"FFT de \", str(delay_index), \"à\", str(delay_index+(len(preambule)+length_bool_message+len(postbule))*SAMPLES_PER_SYMBOL))\n",
    "    print(\"Préambule\", preambule)\n",
    "    print(\"Postbule\",  postbule)\n",
    "    \n",
    "    return result_bool_message"
   ]
  },
  {
   "cell_type": "code",
   "execution_count": 19,
   "metadata": {
    "scrolled": false
   },
   "outputs": [
    {
     "name": "stdout",
     "output_type": "stream",
     "text": [
      "Nombre de bits du message envoyé 1288\n",
      "Nombre d'échantillons envoyés 133600\n",
      "Message envoyé\n"
     ]
    },
    {
     "data": {
      "image/png": "[encoded data removed]",
      "text/plain": [
       "<Figure size 432x288 with 1 Axes>"
      ]
     },
     "metadata": {
      "needs_background": "light"
     },
     "output_type": "display_data"
    }
   ],
   "source": [
    "preambule = synchro_seq_generator(None, 24)\n",
    "postbule  = synchro_seq_generator(None, 24)\n",
    "\n",
    "create_send_file(preambule, hp.read_file(\"input.txt\"), postbule, \"sent_message.txt\", waveformer)\n",
    "\n",
    "print(\"Message envoyé\")\n"
   ]
  },
  {
   "cell_type": "code",
   "execution_count": 20,
   "metadata": {
    "scrolled": true
   },
   "outputs": [
    {
     "name": "stdout",
     "output_type": "stream",
     "text": [
      "Nombre de bits du message reçu -24\n"
     ]
    },
    {
     "ename": "ValueError",
     "evalue": "Dimension n should be a positive integer not larger than the shape of the array along the chosen axis",
     "output_type": "error",
     "traceback": [
      "\u001b[0;31m---------------------------------------------------------------------------\u001b[0m",
      "\u001b[0;31mValueError\u001b[0m                                Traceback (most recent call last)",
      "\u001b[0;32m<ipython-input-20-fe284e9137aa>\u001b[0m in \u001b[0;36m<module>\u001b[0;34m\u001b[0m\n\u001b[1;32m      1\u001b[0m \u001b[0mos\u001b[0m\u001b[0;34m.\u001b[0m\u001b[0msystem\u001b[0m\u001b[0;34m(\u001b[0m\u001b[0;34m\"python client.py --input_file sent_message.txt --output_file received_message.txt --srv_hostname=iscsrv72.epfl.ch --srv_port=80\"\u001b[0m\u001b[0;34m)\u001b[0m\u001b[0;34m\u001b[0m\u001b[0;34m\u001b[0m\u001b[0m\n\u001b[0;32m----> 2\u001b[0;31m \u001b[0mresult\u001b[0m \u001b[0;34m=\u001b[0m \u001b[0mdecode_file\u001b[0m\u001b[0;34m(\u001b[0m\u001b[0mpreambule\u001b[0m\u001b[0;34m,\u001b[0m \u001b[0mpostbule\u001b[0m\u001b[0;34m,\u001b[0m \u001b[0;34m\"received_message.txt\"\u001b[0m\u001b[0;34m,\u001b[0m \u001b[0mwaveformer\u001b[0m\u001b[0;34m)\u001b[0m\u001b[0;34m\u001b[0m\u001b[0;34m\u001b[0m\u001b[0m\n\u001b[0m\u001b[1;32m      3\u001b[0m \u001b[0mhp\u001b[0m\u001b[0;34m.\u001b[0m\u001b[0mwrite_file\u001b[0m\u001b[0;34m(\u001b[0m\u001b[0mresult\u001b[0m\u001b[0;34m,\u001b[0m \u001b[0;34m\"output.txt\"\u001b[0m\u001b[0;34m)\u001b[0m\u001b[0;34m\u001b[0m\u001b[0;34m\u001b[0m\u001b[0m\n",
      "\u001b[0;32m<ipython-input-18-10a141559995>\u001b[0m in \u001b[0;36mdecode_file\u001b[0;34m(preambule, postbule, path, f)\u001b[0m\n\u001b[1;32m     14\u001b[0m                                           length_bool_message, synchro_shift, f)\n\u001b[1;32m     15\u001b[0m \u001b[0;34m\u001b[0m\u001b[0m\n\u001b[0;32m---> 16\u001b[0;31m     \u001b[0mplt\u001b[0m\u001b[0;34m.\u001b[0m\u001b[0mplot\u001b[0m\u001b[0;34m(\u001b[0m\u001b[0mnp\u001b[0m\u001b[0;34m.\u001b[0m\u001b[0mabs\u001b[0m\u001b[0;34m(\u001b[0m\u001b[0mnp\u001b[0m\u001b[0;34m.\u001b[0m\u001b[0mfft\u001b[0m\u001b[0;34m.\u001b[0m\u001b[0mfft\u001b[0m\u001b[0;34m(\u001b[0m\u001b[0mresult_message\u001b[0m\u001b[0;34m[\u001b[0m\u001b[0mdelay_index\u001b[0m\u001b[0;34m:\u001b[0m\u001b[0mdelay_index\u001b[0m\u001b[0;34m+\u001b[0m\u001b[0;34m(\u001b[0m\u001b[0mlen\u001b[0m\u001b[0;34m(\u001b[0m\u001b[0mpreambule\u001b[0m\u001b[0;34m)\u001b[0m\u001b[0;34m+\u001b[0m\u001b[0mlength_bool_message\u001b[0m\u001b[0;34m)\u001b[0m\u001b[0;34m*\u001b[0m\u001b[0mSAMPLES_PER_SYMBOL\u001b[0m\u001b[0;34m]\u001b[0m\u001b[0;34m)\u001b[0m\u001b[0;34m)\u001b[0m\u001b[0;34m)\u001b[0m\u001b[0;34m\u001b[0m\u001b[0;34m\u001b[0m\u001b[0m\n\u001b[0m\u001b[1;32m     17\u001b[0m \u001b[0;34m\u001b[0m\u001b[0m\n\u001b[1;32m     18\u001b[0m     \u001b[0mprint\u001b[0m\u001b[0;34m(\u001b[0m\u001b[0;34m\"Nombre d'échantillons reçus\"\u001b[0m\u001b[0;34m,\u001b[0m \u001b[0mstr\u001b[0m\u001b[0;34m(\u001b[0m\u001b[0mlen\u001b[0m\u001b[0;34m(\u001b[0m\u001b[0mresult_message\u001b[0m\u001b[0;34m)\u001b[0m\u001b[0;34m)\u001b[0m\u001b[0;34m)\u001b[0m\u001b[0;34m\u001b[0m\u001b[0;34m\u001b[0m\u001b[0m\n",
      "\u001b[0;32m~/anaconda3/lib/python3.7/site-packages/mkl_fft/_numpy_fft.py\u001b[0m in \u001b[0;36mfft\u001b[0;34m(a, n, axis, norm)\u001b[0m\n\u001b[1;32m    156\u001b[0m \u001b[0;34m\u001b[0m\u001b[0m\n\u001b[1;32m    157\u001b[0m     \"\"\"\n\u001b[0;32m--> 158\u001b[0;31m     \u001b[0moutput\u001b[0m \u001b[0;34m=\u001b[0m \u001b[0mmkl_fft\u001b[0m\u001b[0;34m.\u001b[0m\u001b[0mfft\u001b[0m\u001b[0;34m(\u001b[0m\u001b[0ma\u001b[0m\u001b[0;34m,\u001b[0m \u001b[0mn\u001b[0m\u001b[0;34m,\u001b[0m \u001b[0maxis\u001b[0m\u001b[0;34m)\u001b[0m\u001b[0;34m\u001b[0m\u001b[0;34m\u001b[0m\u001b[0m\n\u001b[0m\u001b[1;32m    159\u001b[0m     \u001b[0;32mif\u001b[0m \u001b[0m_unitary\u001b[0m\u001b[0;34m(\u001b[0m\u001b[0mnorm\u001b[0m\u001b[0;34m)\u001b[0m\u001b[0;34m:\u001b[0m\u001b[0;34m\u001b[0m\u001b[0;34m\u001b[0m\u001b[0m\n\u001b[1;32m    160\u001b[0m         \u001b[0moutput\u001b[0m \u001b[0;34m*=\u001b[0m \u001b[0;36m1\u001b[0m \u001b[0;34m/\u001b[0m \u001b[0msqrt\u001b[0m\u001b[0;34m(\u001b[0m\u001b[0moutput\u001b[0m\u001b[0;34m.\u001b[0m\u001b[0mshape\u001b[0m\u001b[0;34m[\u001b[0m\u001b[0maxis\u001b[0m\u001b[0;34m]\u001b[0m\u001b[0;34m)\u001b[0m\u001b[0;34m\u001b[0m\u001b[0;34m\u001b[0m\u001b[0m\n",
      "\u001b[0;32mmkl_fft/_pydfti.pyx\u001b[0m in \u001b[0;36mmkl_fft._pydfti.fft\u001b[0;34m()\u001b[0m\n",
      "\u001b[0;32mmkl_fft/_pydfti.pyx\u001b[0m in \u001b[0;36mmkl_fft._pydfti._fft1d_impl\u001b[0;34m()\u001b[0m\n",
      "\u001b[0;32mmkl_fft/_pydfti.pyx\u001b[0m in \u001b[0;36mmkl_fft._pydfti.__process_arguments\u001b[0;34m()\u001b[0m\n",
      "\u001b[0;31mValueError\u001b[0m: Dimension n should be a positive integer not larger than the shape of the array along the chosen axis"
     ]
    }
   ],
   "source": [
    "os.system(\"python client.py --input_file sent_message.txt --output_file received_message.txt --srv_hostname=iscsrv72.epfl.ch --srv_port=80\")\n",
    "result = decode_file(preambule, postbule, \"received_message.txt\", waveformer)\n",
    "hp.write_file(result, \"output.txt\")"
   ]
  },
  {
   "cell_type": "code",
   "execution_count": null,
   "metadata": {},
   "outputs": [],
   "source": [
    "hp.check_successful_transmission(\"input.txt\", \"output.txt\")"
   ]
  }
 ],
 "metadata": {
  "kernelspec": {
   "display_name": "Python 3",
   "language": "python",
   "name": "python3"
  },
  "language_info": {
   "codemirror_mode": {
    "name": "ipython",
    "version": 3
   },
   "file_extension": ".py",
   "mimetype": "text/x-python",
   "name": "python",
   "nbconvert_exporter": "python",
   "pygments_lexer": "ipython3",
   "version": "3.7.1"
  }
 },
 "nbformat": 4,
 "nbformat_minor": 2
}
