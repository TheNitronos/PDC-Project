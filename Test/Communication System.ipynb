{
 "cells": [
  {
   "cell_type": "code",
   "execution_count": null,
   "metadata": {},
   "outputs": [],
   "source": [
    "%matplotlib inline\n",
    "%config InlineBackend.figure_format='retina'\n",
    "\n",
    "import numpy             as np\n",
    "import matplotlib.pyplot as plt\n",
    "\n",
    "plt.rcParams['figure.dpi'] = 300\n",
    "\n",
    "from numpy.fft    import fft, ifft\n",
    "from numpy.random import normal\n",
    "from random       import choice\n",
    "from math         import ceil"
   ]
  },
  {
   "cell_type": "code",
   "execution_count": null,
   "metadata": {},
   "outputs": [],
   "source": [
    "Fs = 22050\n",
    "Ts = 1/Fs\n",
    "\n",
    "A = 1\n",
    "K = 14\n",
    "W = 1575\n",
    "\n",
    "BITS_PER_BYTE  = 8\n",
    "NUMBER_OF_BITS = 10 * BITS_PER_BYTE\n",
    "SIGNAL_LENGTH  = NUMBER_OF_BITS * K\n",
    "\n",
    "t = np.linspace(0, Ts*NUMBER_OF_BITS, SIGNAL_LENGTH)"
   ]
  },
  {
   "cell_type": "code",
   "execution_count": null,
   "metadata": {},
   "outputs": [],
   "source": [
    "bits   = [A if b else -A for b in [choice([True, False]) for _ in range(NUMBER_OF_BITS)]]\n",
    "signal = np.repeat(bits, K)\n",
    "plt.plot(t, signal)\n",
    "plt.show()"
   ]
  },
  {
   "cell_type": "code",
   "execution_count": null,
   "metadata": {},
   "outputs": [],
   "source": [
    "cos_modulation_2000 = np.array([np.cos(2*np.pi*2000*a*Ts) for a in range(SIGNAL_LENGTH)])\n",
    "cos_modulation_4000 = np.array([np.cos(2*np.pi*4000*a*Ts) for a in range(SIGNAL_LENGTH)])\n",
    "cos_modulation_6000 = np.array([np.cos(2*np.pi*6000*a*Ts) for a in range(SIGNAL_LENGTH)])\n",
    "cos_modulation_8000 = np.array([np.cos(2*np.pi*8000*a*Ts) for a in range(SIGNAL_LENGTH)])\n",
    "cos_modulation      = cos_modulation_2000 + cos_modulation_4000 + cos_modulation_6000 + cos_modulation_8000\n",
    "plt.plot(t, cos_modulation)\n",
    "plt.show()"
   ]
  },
  {
   "cell_type": "code",
   "execution_count": null,
   "metadata": {},
   "outputs": [],
   "source": [
    "modulated_signal = cos_modulation*signal\n",
    "plt.plot(t, modulated_signal)\n",
    "plt.show()"
   ]
  },
  {
   "cell_type": "code",
   "execution_count": null,
   "metadata": {},
   "outputs": [],
   "source": [
    "white_noise = normal(0, 0.05, SIGNAL_LENGTH)\n",
    "plt.plot(t, white_noise)\n",
    "plt.show()"
   ]
  },
  {
   "cell_type": "code",
   "execution_count": null,
   "metadata": {},
   "outputs": [],
   "source": [
    "frequencies = fft(signal)\n",
    "plt.plot(abs(frequencies))\n",
    "plt.show()"
   ]
  },
  {
   "cell_type": "code",
   "execution_count": null,
   "metadata": {},
   "outputs": [],
   "source": [
    "modulated_frequencies = fft(modulated_signal)\n",
    "plt.plot(abs(modulated_frequencies))\n",
    "plt.show()"
   ]
  },
  {
   "cell_type": "code",
   "execution_count": null,
   "metadata": {},
   "outputs": [],
   "source": [
    "signal_ifft = ifft(frequencies)\n",
    "plt.plot(t, signal_ifft)\n",
    "plt.show()"
   ]
  },
  {
   "cell_type": "code",
   "execution_count": null,
   "metadata": {},
   "outputs": [],
   "source": [
    "modulated_signal_ifft = ifft(modulated_frequencies)\n",
    "plt.plot(t, modulated_signal_ifft/cos_modulation)\n",
    "plt.show()"
   ]
  },
  {
   "cell_type": "code",
   "execution_count": null,
   "metadata": {},
   "outputs": [],
   "source": [
    "def decode(signal_ifft):\n",
    "    signal_input  = signal[-SIGNAL_LENGTH:]\n",
    "    signal_output = []\n",
    "    \n",
    "    for i in range(NUMBER_OF_BITS):\n",
    "        acc = 0\n",
    "        for j in range(K):\n",
    "            acc += signal_input[i * K + j]\n",
    "        signal_output.append(acc//K)\n",
    "        \n",
    "    return signal_output"
   ]
  },
  {
   "cell_type": "code",
   "execution_count": null,
   "metadata": {},
   "outputs": [],
   "source": [
    "if (decode(signal_ifft) == bits):\n",
    "    print(\"OK!\")"
   ]
  },
  {
   "cell_type": "code",
   "execution_count": null,
   "metadata": {},
   "outputs": [],
   "source": [
    "if (decode(signal_ifft) == bits):\n",
    "    print(\"OK!\")"
   ]
  }
 ],
 "metadata": {
  "kernelspec": {
   "display_name": "Python 3",
   "language": "python",
   "name": "python3"
  },
  "language_info": {
   "codemirror_mode": {
    "name": "ipython",
    "version": 3
   },
   "file_extension": ".py",
   "mimetype": "text/x-python",
   "name": "python",
   "nbconvert_exporter": "python",
   "pygments_lexer": "ipython3",
   "version": "3.7.1"
  }
 },
 "nbformat": 4,
 "nbformat_minor": 2
}
