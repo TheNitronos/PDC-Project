{
 "cells": [
  {
   "cell_type": "code",
   "execution_count": 1,
   "metadata": {},
   "outputs": [],
   "source": [
    "import numpy             as np\n",
    "import matplotlib.pyplot as plt\n",
    "\n",
    "from scipy  import signal\n",
    "from random import choice\n",
    "from math   import ceil"
   ]
  },
  {
   "cell_type": "code",
   "execution_count": 2,
   "metadata": {},
   "outputs": [],
   "source": [
    "SAMPLING_RATE = 22050\n",
    "T_s = 1/SAMPLING_RATE\n",
    "K = 14\n",
    "W = 2000\n",
    "G = 1\n",
    "BITS_PER_BYTE  = 8\n",
    "NUMBER_OF_BITS = 150 * BITS_PER_BYTE"
   ]
  },
  {
   "cell_type": "code",
   "execution_count": 4,
   "metadata": {},
   "outputs": [
    {
     "name": "stdout",
     "output_type": "stream",
     "text": [
      "[True, False, False, False, False, False, False, False, True, True, False, True, False, False, False, False, False, True, True, False, False, True, True, False, False, True, True, False, True, False, True, False, False, False, True, False, False, True, False, True, True, False, True, True, True, True, True, False, True, True, True, True, True, True, False, True, False, True, False, False, False, False, False, True, True, False, False, True, True, True, True, True, True, False, True, False, True, False, True, True, False, False, True, True, True, False, False, True, False, False, True, False, False, False, True, True, False, False, False, True, True, True, False, True, False, False, False, False, True, True, True, False, False, False, False, False, True, False, True, True, True, False, False, True, True, False, True, False, True, True, True, False, True, True, False, True, True, False, False, True, False, True, True, True, True, True, False, True, False, False, True, True, True, True, False, True, False, True, False, False, False, False, True, True, False, False, True, False, True, False, False, False, False, True, True, True, False, False, False, True, False, False, True, True, False, True, True, True, True, False, True, False, False, True, False, True, False, False, True, False, True, False, True, False, True, False, False, False, True, True, True, False, True, False, False, True, False, False, True, False, False, True, False, True, True, False, True, False, True, True, False, False, True, True, True, True, True, True, False, True, True, False, False, True, True, True, False, False, False, True, False, True, True, False, False, False, True, True, False, False, True, False, False, False, True, True, False, False, False, False, False, False, True, False, True, False, True, False, False, False, True, False, True, True, True, True, False, True, True, False, True, True, True, False, True, False, True, False, True, False, True, True, False, True, True, True, True, True, True, False, False, False, False, True, False, True, False, False, False, True, True, False, False, True, False, False, True, False, False, False, True, False, False, False, True, False, False, True, True, True, False, False, True, True, False, False, True, False, False, True, True, False, False, False, False, True, False, False, True, False, False, False, True, True, False, False, True, True, True, True, False, False, False, False, False, False, True, True, True, False, False, False, True, True, True, False, True, True, False, False, True, True, False, False, True, False, False, True, True, False, False, False, False, False, True, False, True, True, False, True, False, False, False, False, True, False, False, False, False, True, True, True, False, False, True, False, False, True, False, True, False, False, True, True, False, True, False, True, False, True, False, False, True, True, True, True, False, False, False, True, False, True, True, True, True, True, False, False, False, False, False, True, False, False, True, True, True, True, False, False, True, True, False, True, False, True, False, False, True, False, True, True, True, False, True, True, True, False, True, False, True, False, True, False, False, False, True, False, True, False, False, False, True, False, False, True, True, True, True, True, False, False, False, False, False, True, False, False, True, False, False, False, False, False, False, False, True, False, True, True, True, True, True, True, True, True, False, True, False, True, True, False, True, False, True, False, False, False, True, False, True, True, False, True, True, False, False, False, False, False, False, True, False, False, True, False, True, True, True, True, False, False, True, True, False, True, False, True, False, False, True, False, False, False, True, True, False, False, False, False, True, False, False, True, True, True, False, True, False, True, False, False, True, True, False, False, False, True, False, True, True, False, True, False, True, False, False, True, False, False, True, True, True, False, True, False, True, True, True, True, False, False, True, True, True, False, True, False, True, True, True, False, False, True, True, False, False, True, False, False, False, True, True, True, True, True, False, True, False, True, False, False, False, True, True, False, False, True, True, False, False, True, True, False, True, False, False, False, True, False, False, False, False, True, False, False, True, True, False, False, False, True, False, False, False, True, True, False, True, False, False, False, False, True, True, True, False, False, False, True, False, False, False, True, False, True, True, True, False, True, True, True, True, True, True, False, True, False, True, True, False, True, True, False, False, True, False, True, False, True, True, True, True, False, False, True, True, False, True, True, False, True, False, False, True, False, True, False, True, True, False, True, False, True, True, True, False, False, True, True, True, True, True, True, True, False, False, False, False, True, False, False, False, False, False, True, True, False, False, True, False, True, False, True, False, False, False, False, False, False, False, True, False, True, True, False, True, True, True, False, False, True, False, True, False, True, False, False, False, True, False, False, False, False, False, False, True, False, False, True, True, True, True, False, True, True, True, False, True, True, False, False, True, True, False, False, False, True, True, False, True, True, False, True, True, True, True, True, True, False, True, True, True, False, False, False, False, True, False, False, False, False, False, False, False, True, True, True, True, True, True, False, True, True, True, True, False, False, True, False, False, True, False, False, True, True, True, True, False, False, True, False, True, False, True, False, False, True, True, True, False, False, True, False, True, True, False, False, True, False, False, True, True, True, False, False, False, False, True, False, False, False, False, True, False, False, True, True, False, True, False, True, False, False, False, True, True, False, False, True, False, True, False, True, True, True, True, True, True, False, True, False, True, True, True, False, True, False, False, True, True, False, False, True, False, True, False, False, False, False, False, True, False, False, False, False, False, True, False, True, False, False, False, True, True, True, False, False, True, True, True, True, False, False, True, True, False, False, False, True, False, True, False, True, False, False, True, True, True, False, False, True, True, False, True, False, False, True, True, False, True, True, False, True, True, True, True, False, False, True, False, False, True, False, False, False, True, True, True, True, True, True, True, False, True, False, False, True, True, False, False, True, False, True, True, True, False, False, False, True, True, False, True, True, False, False, False, False, False, True, True, False, True, False, False, False, True, False, True, False, False, True, True, False, True, True, False, False, False, False, True, True, False, True, True, False, True, False, True, True, False, True, False, False, True, False, True, True, True, False, True, True, False, True, True, False, False, False, False, False, True, False, False, False, True, True, True, False, False, False, False, False, False, True, True, False, True, True, True, True, False, False, False, True, False, False, True, True, True, True, False, False, True, False, True, False, True, False, True, True, True, True, True, True, False, False, False, False, False, True, False, True, True, False, True, True, True, False, False, False, True, True, False, True, True, True, True, False, False, True]\n"
     ]
    }
   ],
   "source": [
    "bool_list = [choice([True, False]) for _ in range(NUMBER_OF_BITS)]\n",
    "print(bool_list)"
   ]
  },
  {
   "cell_type": "code",
   "execution_count": 5,
   "metadata": {},
   "outputs": [],
   "source": [
    "signal = [G if b else -G for b in bool_list]"
   ]
  },
  {
   "cell_type": "code",
   "execution_count": 11,
   "metadata": {},
   "outputs": [
    {
     "data": {
      "image/png": "[encoded data removed]",
      "text/plain": [
       "<Figure size 432x288 with 1 Axes>"
      ]
     },
     "metadata": {
      "needs_background": "light"
     },
     "output_type": "display_data"
    }
   ],
   "source": [
    "time = np.linspace(0, T_s*NUMBER_OF_BITS, NUMBER_OF_BITS)\n",
    "plt.stem(time, signal)\n",
    "plt.show()"
   ]
  },
  {
   "cell_type": "code",
   "execution_count": null,
   "metadata": {},
   "outputs": [],
   "source": []
  }
 ],
 "metadata": {
  "kernelspec": {
   "display_name": "Python 3",
   "language": "python",
   "name": "python3"
  },
  "language_info": {
   "codemirror_mode": {
    "name": "ipython",
    "version": 3
   },
   "file_extension": ".py",
   "mimetype": "text/x-python",
   "name": "python",
   "nbconvert_exporter": "python",
   "pygments_lexer": "ipython3",
   "version": "3.7.1"
  }
 },
 "nbformat": 4,
 "nbformat_minor": 2
}
