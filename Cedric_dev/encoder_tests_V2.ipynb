{
 "cells": [
  {
   "cell_type": "code",
   "execution_count": 10,
   "metadata": {},
   "outputs": [],
   "source": [
    "import numpy as np\n",
    "import matplotlib.pyplot as plt\n",
    "import helper as hp"
   ]
  },
  {
   "cell_type": "code",
   "execution_count": 11,
   "metadata": {},
   "outputs": [],
   "source": [
    "def fGenerator(frequency, samplingRate):\n",
    "    \n",
    "    def f(n):        \n",
    "        return np.cos(2*np.pi*frequency/samplingRate*n)\n",
    "    \n",
    "    return f"
   ]
  },
  {
   "cell_type": "code",
   "execution_count": 12,
   "metadata": {},
   "outputs": [],
   "source": [
    "BASE = 2000\n",
    "DEVIATION = 2000\n",
    "SAMPLING_RATE = 22050\n",
    "\n",
    "def phi0():    \n",
    "    return fGenerator(BASE, SAMPLING_RATE)\n",
    "\n",
    "def phi1():\n",
    "    return fGenerator(BASE + DEVIATION, SAMPLING_RATE)\n",
    "\n",
    "def phi2():\n",
    "    return fGenerator(BASE + 2*DEVIATION, SAMPLING_RATE)\n",
    "\n",
    "def phi3():\n",
    "    return fGenerator(BASE + 3*DEVIATION, SAMPLING_RATE)\n",
    "\n",
    "def phi(i):\n",
    "    return fGenerator(BASE + i*DEVIATION, SAMPLING_RATE)\n",
    "# Syntaxe à régler !!\n",
    "def waveformer(n):\n",
    "    return (phi(0)(n) + phi(1)(n) + phi(2)(n) + phi(3)(n))/4"
   ]
  },
  {
   "cell_type": "code",
   "execution_count": 13,
   "metadata": {},
   "outputs": [
    {
     "data": {
      "text/plain": [
       "0.8419530839228748"
      ]
     },
     "execution_count": 13,
     "metadata": {},
     "output_type": "execute_result"
    }
   ],
   "source": [
    "phi(0)(1)"
   ]
  },
  {
   "cell_type": "code",
   "execution_count": 14,
   "metadata": {},
   "outputs": [],
   "source": [
    "def generic_encoder(bool_message, samples_per_symbol, f):\n",
    "    \n",
    "    result = []\n",
    "    \n",
    "    for s in bool_message:\n",
    "        for i in range(samples_per_symbol): # range est exclusif: va de 0 à n-1, soit n symboles en tout\n",
    "            result.append((1 if s else -1)*f(i))\n",
    "    \n",
    "    return result"
   ]
  },
  {
   "cell_type": "code",
   "execution_count": 15,
   "metadata": {},
   "outputs": [],
   "source": [
    "from scipy.signal import butter, lfilter\n",
    "\n",
    "#def butter_bandpass(lowcut, highcut, fs, order=5):\n",
    "    #nyq = 0.5 * fs\n",
    "    #low = lowcut / nyq\n",
    "    #high = highcut / nyq\n",
    "    #b, a = butter(order, [low, high], btype='band')\n",
    "    #return b, a\n",
    "\n",
    "def bandpass_filter(signal, center, tolerance = 100, order = 7):\n",
    "    \n",
    "    b, a = butter(order, [(center-tolerance)/SAMPLING_RATE, (center+tolerance)/SAMPLING_RATE], btype = 'band')\n",
    "    \n",
    "    output = lfilter(b, a, signal)\n",
    "    \n",
    "    return output\n",
    "\n",
    "#def butter_bandpass_filter(data, lowcut, highcut, fs, order=5):\n",
    "    #b, a = butter_bandpass(lowcut, highcut, fs, order=order)\n",
    "    #y = lfilter(b, a, data)\n",
    "    #return y"
   ]
  },
  {
   "cell_type": "code",
   "execution_count": 16,
   "metadata": {},
   "outputs": [],
   "source": [
    "def decoder_v2(float_message, samples_per_symbol, length_of_bool_message):\n",
    "    \n",
    "    \n",
    "    result = []\n",
    "    \n",
    "\n",
    "    length = length_of_bool_message\n",
    "    \n",
    "    decoding_vectors = []\n",
    "    \n",
    "    for i in range(3):\n",
    "        decoding_vectors.append(generic_encoder([True],samples_per_symbol, phi(i)))\n",
    "    \n",
    "    for i in range(length):\n",
    "        \n",
    "        currentSymbol = float_message[i*samples_per_symbol:(i+1)*samples_per_symbol]\n",
    "        \n",
    "        hypotheses = []\n",
    "        \n",
    "        TOLERANCE = 100\n",
    "        \n",
    "        for j in range(3):\n",
    "            cleanedSymbol = bandpass_filter(currentSymbol, BASE + j*DEVIATION, TOLERANCE)\n",
    "            hypotheses.append(np.dot(decoding_vectors[j], cleanedSymbol))\n",
    "        \n",
    "        y = np.mean(hypotheses)\n",
    "        result.append(y>0)\n",
    "    \n",
    "    return result"
   ]
  },
  {
   "cell_type": "code",
   "execution_count": 17,
   "metadata": {},
   "outputs": [],
   "source": [
    "#Abandon du paradigme du filtrage avant mesure par un seul vecteur (normalement inutile si le reste est bien fait)\n",
    "#Donc retour à la v1\n",
    "#Ajout d'une supression du delay\n",
    "def decoder_v3(float_message, samples_per_symbol, length_of_bool_message):\n",
    "    \n",
    "    synchronised_message = float_message[(len(float_message) - length_of_bool_message*samples_per_symbol):]\n",
    "    \n",
    "    result = []\n",
    "    \n",
    "    #assert len(float_message)%samples_per_symbol == 0\n",
    "    #length = int(len(float_message)/samples_per_symbol)\n",
    "    length = length_of_bool_message\n",
    "    \n",
    "    decoding_vector = encoder([True],samples_per_symbol)\n",
    "    \n",
    "    for i in range(length):\n",
    "        \n",
    "        currentSymbol = synchronised_message[i*samples_per_symbol:(i+1)*samples_per_symbol]\n",
    "        \n",
    "        y = np.dot(decoding_vector, currentSymbol)\n",
    "        print(y)\n",
    "        \n",
    "        result.append(y>0)\n",
    "    \n",
    "    return result"
   ]
  },
  {
   "cell_type": "code",
   "execution_count": 18,
   "metadata": {},
   "outputs": [
    {
     "data": {
      "text/plain": [
       "inf"
      ]
     },
     "execution_count": 18,
     "metadata": {},
     "output_type": "execute_result"
    }
   ],
   "source": [
    "x1 = generic_encoder([True],22050,waveformer)\n",
    "x2 = generic_encoder([False],22050,waveformer)\n",
    "x3 = bandpass_filter(x1, BASE + DEVIATION)\n",
    "x4 = bandpass_filter(x1, BASE + 2*DEVIATION)\n",
    "x5 = bandpass_filter(x1, BASE + 2*DEVIATION)\n",
    "x6 = bandpass_filter(x1, BASE)\n",
    "\n",
    "np.dot(x6,x6)"
   ]
  },
  {
   "cell_type": "code",
   "execution_count": 19,
   "metadata": {},
   "outputs": [
    {
     "data": {
      "text/plain": [
       "0.9421052369755334"
      ]
     },
     "execution_count": 19,
     "metadata": {},
     "output_type": "execute_result"
    }
   ],
   "source": [
    "phi(1)(0.3)"
   ]
  },
  {
   "cell_type": "code",
   "execution_count": 20,
   "metadata": {},
   "outputs": [
    {
     "name": "stderr",
     "output_type": "stream",
     "text": [
      "C:\\SysNumNoSpace\\Anaconda3\\lib\\site-packages\\numpy\\core\\numeric.py:501: ComplexWarning: Casting complex values to real discards the imaginary part\n",
      "  return array(a, dtype, copy=False, order=order)\n"
     ]
    },
    {
     "data": {
      "text/plain": [
       "[<matplotlib.lines.Line2D at 0x280318966a0>]"
      ]
     },
     "execution_count": 20,
     "metadata": {},
     "output_type": "execute_result"
    },
    {
     "data": {
      "image/png": "[encoded data removed]",
      "text/plain": [
       "<Figure size 432x288 with 1 Axes>"
      ]
     },
     "metadata": {
      "needs_background": "light"
     },
     "output_type": "display_data"
    }
   ],
   "source": [
    "plt.plot(np.fft.fft(x6))"
   ]
  },
  {
   "cell_type": "code",
   "execution_count": 21,
   "metadata": {},
   "outputs": [
    {
     "data": {
      "text/plain": [
       "[3, 4, 5]"
      ]
     },
     "execution_count": 21,
     "metadata": {},
     "output_type": "execute_result"
    }
   ],
   "source": [
    "[1,2,3,4,5][5-3:]"
   ]
  },
  {
   "cell_type": "code",
   "execution_count": 22,
   "metadata": {},
   "outputs": [
    {
     "data": {
      "image/png": "[encoded data removed]",
      "text/plain": [
       "<Figure size 432x288 with 1 Axes>"
      ]
     },
     "metadata": {
      "needs_background": "light"
     },
     "output_type": "display_data"
    }
   ],
   "source": [
    "test_message = [True, False]\n",
    "\n",
    "SAMPLES_PER_SYMBOL = 10000\n",
    "\n",
    "sent_test_message = generic_encoder(test_message, SAMPLES_PER_SYMBOL, waveformer)\n",
    "\n",
    "plt.plot(np.arange(0,100,1), sent_test_message[:100])\n",
    "\n",
    "fd = open(\"test_message.txt\", \"w\")\n",
    "for fl in sent_test_message:\n",
    "    fd.write(str(fl))\n",
    "    fd.write(\" \")\n",
    "    \n",
    "fd.close()\n",
    "\n",
    "# Documents/JupyterNotebooks/PDCProject/PDC-Project\n",
    "\n",
    "#python client.py --input_file=test_message.txt --output_file=result_test.txt --srv_hostname=iscsrv72.epfl.ch --srv_port=80\n"
   ]
  },
  {
   "cell_type": "code",
   "execution_count": null,
   "metadata": {},
   "outputs": [],
   "source": [
    "result_message = []\n",
    "\n",
    "with open(\"result_test.txt\",\"r\") as fr:  \n",
    "    for cnt, line in enumerate(fr):\n",
    "        result_message.append(float(line))\n",
    "\n",
    "fr.close()\n",
    "\n",
    "plt.plot(np.arange(0,100,1), result_message[:100])\n",
    "\n",
    "#print(len(sent_test_message))\n",
    "#print(len(result_message))\n",
    "\n",
    "recieved_test_message = decoder_v3(result_message, SAMPLES_PER_SYMBOL, len(test_message))\n",
    "\n",
    "print(recieved_test_message)"
   ]
  }
 ],
 "metadata": {
  "kernelspec": {
   "display_name": "Python 3",
   "language": "python",
   "name": "python3"
  },
  "language_info": {
   "codemirror_mode": {
    "name": "ipython",
    "version": 3
   },
   "file_extension": ".py",
   "mimetype": "text/x-python",
   "name": "python",
   "nbconvert_exporter": "python",
   "pygments_lexer": "ipython3",
   "version": "3.7.1"
  }
 },
 "nbformat": 4,
 "nbformat_minor": 2
}
