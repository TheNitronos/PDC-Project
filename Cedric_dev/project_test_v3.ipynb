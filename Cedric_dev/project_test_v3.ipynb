{
 "cells": [
  {
   "cell_type": "code",
   "execution_count": 1,
   "metadata": {},
   "outputs": [],
   "source": [
    "import numpy as np\n",
    "import matplotlib.pyplot as plt\n",
    "import helper as hp"
   ]
  },
  {
   "cell_type": "code",
   "execution_count": 2,
   "metadata": {},
   "outputs": [],
   "source": [
    "def fGenerator(frequency, samplingRate):\n",
    "    \n",
    "    def f(n):        \n",
    "        return np.cos(2*np.pi*frequency/samplingRate*n)\n",
    "    \n",
    "    return f"
   ]
  },
  {
   "cell_type": "code",
   "execution_count": 3,
   "metadata": {},
   "outputs": [],
   "source": [
    "BASE = 2000\n",
    "DEVIATION = 2000\n",
    "SAMPLING_RATE = 22050\n",
    "\n",
    "SAMPLES_PER_SYMBOL = 400\n",
    "BETA = 1/2\n",
    "\n",
    "\n",
    "def phi(i):\n",
    "    return fGenerator(BASE + i*DEVIATION, SAMPLING_RATE)\n",
    "\n",
    "# ! Dans le raised cosine, la period influence tout, notamment l'amplitude du signal temporel et la bandwith du signal 1/2T\n",
    "def raised_cosine(beta, period):\n",
    "    \n",
    "    def f(n):\n",
    "        return (4*beta)/(np.pi*np.sqrt(period)) \\\n",
    "        *(np.cos((1+beta)*np.pi*n/period) + (1-beta)*np.pi/(4*beta)*np.sinc((1-beta)*n/period))/ \\\n",
    "        (1-np.square((4*beta*n/period))) + \\\n",
    "        (np.abs(n) == period/(4*beta))\n",
    "        \n",
    "    \n",
    "    limit_raised_cosine_critical_points = \\\n",
    "    beta/(np.pi*np.sqrt(2*period))*((np.pi + 2)*np.sin(np.pi/(4*beta)) + (np.pi-2)*np.cos(np.pi/(4*beta)))\n",
    "    \n",
    "    def g(n):\n",
    "        \n",
    "        return np.piecewise(float(n), [(np.abs(n) != period/(4*beta)), (np.abs(n) == period/(4*beta))], \\\n",
    "                           [lambda x : f(x), lambda x : limit_raised_cosine_critical_points])\n",
    "    \n",
    "    return g\n",
    "\n",
    "def waveformer(n):\n",
    "    return raised_cosine(BETA, SAMPLES_PER_SYMBOL)(n-SAMPLES_PER_SYMBOL/2)*(phi(0)(n) + phi(1)(n) + phi(2)(n) + phi(3)(n))\n",
    "\n",
    "def altered_waveformer(n):\n",
    "    return raised_cosine(BETA, SAMPLES_PER_SYMBOL)(n-SAMPLES_PER_SYMBOL/2)*(phi(0)(n) + phi(1)(n) + phi(3)(n))\n",
    "\n",
    "def minimalist_waveformer(n):\n",
    "    return raised_cosine(BETA, SAMPLES_PER_SYMBOL)(n-SAMPLES_PER_SYMBOL/2)*(phi(0)(n) + phi(1)(n))\n",
    "\n",
    "def altered_minimalist_waveformer(n):\n",
    "    return raised_cosine(BETA, SAMPLES_PER_SYMBOL)(n-SAMPLES_PER_SYMBOL/2)*(phi(0)(n))"
   ]
  },
  {
   "cell_type": "code",
   "execution_count": 4,
   "metadata": {},
   "outputs": [],
   "source": [
    "# ! Le résultat n'est pas normalisé !\n",
    "def generic_encoder(bool_message, samples_per_symbol, f):\n",
    "    \n",
    "    result = []\n",
    "    \n",
    "    for s in bool_message:\n",
    "        for i in range(samples_per_symbol): # range est exclusif: va de 0 à n-1, soit n symboles en tout\n",
    "            result.append((1 if s else -1)*f(i))\n",
    "    \n",
    "    #print(\"LENGTH SENT MESSAGE\" +str(len(result)))\n",
    "    return result"
   ]
  },
  {
   "cell_type": "code",
   "execution_count": 5,
   "metadata": {},
   "outputs": [],
   "source": [
    "def generic_decoder(float_message, samples_per_symbol, length_of_bool_message, synchro_shift, f):\n",
    "    \n",
    "    synchronised_message = float_message[synchro_shift:synchro_shift + samples_per_symbol*length_of_bool_message]\n",
    "    \n",
    "    result = []\n",
    "    \n",
    "    #print(len(synchronised_message))\n",
    "    \n",
    "    assert len(synchronised_message)%samples_per_symbol == 0\n",
    "    #length = int(len(float_message)/samples_per_symbol)\n",
    "    length = length_of_bool_message\n",
    "    \n",
    "    decoding_vector = generic_encoder([True],samples_per_symbol, f)\n",
    "    \n",
    "    for i in range(length):\n",
    "        \n",
    "        currentSymbol = synchronised_message[i*samples_per_symbol:(i+1)*samples_per_symbol]\n",
    "        \n",
    "        y = np.dot(decoding_vector, currentSymbol)\n",
    "        #print(y)\n",
    "        \n",
    "        result.append(y>0)\n",
    "    \n",
    "    return result"
   ]
  },
  {
   "cell_type": "code",
   "execution_count": 6,
   "metadata": {},
   "outputs": [],
   "source": [
    "def synchro_seq_generator(seed, length):\n",
    "    \n",
    "    np.random.seed(seed)\n",
    "    \n",
    "    bool_sequence = np.random.randint(2, size = length)\n",
    "    \n",
    "    return bool_sequence\n",
    "\n",
    "def synchronizer(float_message, preambule_matcher, length_of_bool_message, samples_per_symbol, f):\n",
    "    \n",
    "    #length_preambule = len(preambule_matcher)\n",
    "    \n",
    "    # C'est pas ça une autocorrelation !\n",
    "    #def autocorrelation(array_index):\n",
    "        #return np.dot([float_message[index: length_preambule + index] for index in array_index], preambule_matcher, axis = 0)\n",
    "    \n",
    "    max_delay = len(float_message) - (length_of_bool_message + len(preambule_matcher))*samples_per_symbol\n",
    "    \n",
    "    preambule_float = generic_encoder(preambule_matcher, SAMPLES_PER_SYMBOL, f)\n",
    "    \n",
    "    #print(autocorrelation(np.arange(max_delay+1))[:20])\n",
    "    \n",
    "    #return np.argmax(autocorrelation(np.arange(max_delay + 1)))\n",
    "    #print(\"LENGTHS\")\n",
    "    #print(len(float_message))\n",
    "    #print(length_of_bool_message*samples_per_symbol)\n",
    "    #print(len(preambule_matcher))\n",
    "    #print(\"MAX DELAY = \"+str(max_delay))\n",
    "    \n",
    "    return np.argmax(np.correlate(float_message[:max_delay + len(preambule_float)], preambule_float, \"valid\"))"
   ]
  },
  {
   "cell_type": "code",
   "execution_count": 7,
   "metadata": {},
   "outputs": [],
   "source": [
    "def create_send_file(preambule, boolean_message, path, f):\n",
    "\n",
    "    #print(len(boolean_message))\n",
    "    #print(len(preambule))\n",
    "    #print(len(np.concatenate((preambule,boolean_message))))\n",
    "    \n",
    "    sent_test_message = generic_encoder(np.concatenate((preambule,boolean_message)), SAMPLES_PER_SYMBOL, f)\n",
    "\n",
    "    normalized_sent_test_message = sent_test_message/np.max(sent_test_message)\n",
    "    \n",
    "    print(\"LENGTH SENT MESSAGE =\" + str(len(normalized_sent_test_message)))\n",
    "\n",
    "    #plt.plot(np.arange(0,100,1), sent_test_message[:100])\n",
    "    plt.plot(np.abs(np.fft.fft(normalized_sent_test_message)))\n",
    "\n",
    "    fd = open(path, \"w\")\n",
    "    for fl in sent_test_message:\n",
    "        fd.write(str(fl))\n",
    "        fd.write(\"\\n\")\n",
    "\n",
    "    fd.close()"
   ]
  },
  {
   "cell_type": "code",
   "execution_count": 8,
   "metadata": {},
   "outputs": [],
   "source": [
    "def decode_file(preambule, length_bool_message, path, f):\n",
    "    result_message = []\n",
    "\n",
    "    with open(path,\"r\") as fr:  \n",
    "        for cnt, line in enumerate(fr):\n",
    "            result_message.append(float(line))\n",
    "\n",
    "    fr.close()\n",
    "    \n",
    "    delay_index = synchronizer(result_message, preambule, length_bool_message, SAMPLES_PER_SYMBOL, f)\n",
    "    \n",
    "    #print(\"DELAY = \" + str(delay_index))\n",
    "    \n",
    "    synchro_shift = delay_index + len(preambule)*SAMPLES_PER_SYMBOL\n",
    "    \n",
    "    result_bool_message = generic_decoder(result_message, SAMPLES_PER_SYMBOL, length_bool_message, synchro_shift, f)\n",
    "\n",
    "    #Out of date, refaire prochainement des tests sur le serveur\n",
    "    plt.plot(np.abs(np.fft.fft(result_message[delay_index:delay_index+(len(preambule)+length_bool_message)*SAMPLES_PER_SYMBOL])))\n",
    "    \n",
    "    print(\"LENGTH RECIEVED MESSAGE =\" + str(len(result_message)))\n",
    "    print(\"DELAY =\" + str(delay_index))\n",
    "    print(\"FFT show \" + str(delay_index) + \" to \" + str(delay_index+(len(preambule)+length_bool_message)*SAMPLES_PER_SYMBOL))\n",
    "    print(\"Preambule = \", preambule)\n",
    "    \n",
    "    print(result_bool_message)\n",
    "\n",
    "#recieved_test_message = generic_decoder(result_message, SAMPLES_PER_SYMBOL, len(test_message), 0,f)\n",
    "\n",
    "#print(recieved_test_message)"
   ]
  },
  {
   "cell_type": "code",
   "execution_count": 9,
   "metadata": {
    "scrolled": false
   },
   "outputs": [
    {
     "name": "stdout",
     "output_type": "stream",
     "text": [
      "MOCK_DELAYING_SEQUENCE = [0 1 0 1 0 1 0 0 0 0]\n",
      "LENGTH SENT MESSAGE =15200\n",
      "MESSAGE SENT\n"
     ]
    },
    {
     "data": {
      "image/png": "[encoded data removed]",
      "text/plain": [
       "<Figure size 432x288 with 1 Axes>"
      ]
     },
     "metadata": {
      "needs_background": "light"
     },
     "output_type": "display_data"
    }
   ],
   "source": [
    "test_message = [True, False, False, True, False, True, True, True, True, False, False, True]\n",
    "\n",
    "preambule = synchro_seq_generator(43, 16)\n",
    "\n",
    "mock_delaying_sequence = synchro_seq_generator(18,10) #introduit un faux décalage pour tester l'effet de ce dernier.\n",
    "\n",
    "print(\"MOCK_DELAYING_SEQUENCE =\", mock_delaying_sequence)\n",
    "\n",
    "create_send_file(np.concatenate((mock_delaying_sequence,preambule)), test_message, \"test_message.txt\", altered_minimalist_waveformer)\n",
    "\n",
    "print(\"MESSAGE SENT\")\n"
   ]
  },
  {
   "cell_type": "code",
   "execution_count": 10,
   "metadata": {
    "scrolled": true
   },
   "outputs": [
    {
     "name": "stdout",
     "output_type": "stream",
     "text": [
      "LENGTH RECIEVED MESSAGE =15200\n",
      "DELAY =4000\n",
      "FFT show 4000 to 15200\n",
      "Preambule =  [0 0 1 1 1 0 0 1 1 1 1 0 0 0 1 0]\n",
      "[True, False, False, True, False, True, True, True, True, False, False, True]\n"
     ]
    },
    {
     "data": {
      "image/png": "[encoded data removed]",
      "text/plain": [
       "<Figure size 432x288 with 1 Axes>"
      ]
     },
     "metadata": {
      "needs_background": "light"
     },
     "output_type": "display_data"
    }
   ],
   "source": [
    "# Documents/JupyterNotebooks/PDCProject/PDC-Project/Cedric_dev\n",
    "\n",
    "#python client.py --input_file=test_message.txt --output_file=test_result.txt --srv_hostname=iscsrv72.epfl.ch --srv_port=80\n",
    "\n",
    "decode_file(preambule, len(test_message), \"test_message.txt\", waveformer)"
   ]
  }
 ],
 "metadata": {
  "kernelspec": {
   "display_name": "Python 3",
   "language": "python",
   "name": "python3"
  },
  "language_info": {
   "codemirror_mode": {
    "name": "ipython",
    "version": 3
   },
   "file_extension": ".py",
   "mimetype": "text/x-python",
   "name": "python",
   "nbconvert_exporter": "python",
   "pygments_lexer": "ipython3",
   "version": "3.7.1"
  }
 },
 "nbformat": 4,
 "nbformat_minor": 2
}
